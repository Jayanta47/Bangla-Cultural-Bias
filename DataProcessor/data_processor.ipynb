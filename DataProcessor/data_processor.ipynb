{
 "cells": [
  {
   "cell_type": "markdown",
   "metadata": {},
   "source": [
    "# Converting Pickle files to CSV \n",
    "In this section the raw data from BIBED dataset which is in pickle form is converted into a more readable and relevant csv format"
   ]
  },
  {
   "cell_type": "code",
   "execution_count": 26,
   "metadata": {},
   "outputs": [],
   "source": [
    "import pickle\n",
    "import os \n",
    "\n",
    "def return_pkl_dict(filepath):\n",
    "    with open(filepath, 'rb') as f:\n",
    "        return pickle.load(f)\n",
    "    \n",
    "base_path = \"../Data/BIBED\"\n",
    "ebe_gender_filename = \"EBE-gender.pkl\"\n",
    "ebe_religion_filename = \"EBE-religion.pkl\"\n",
    "np_ibe_gender_filename = \"Nounphrase-IBE-gender.pkl\"\n",
    "np_ibe_religion_filename = \"Nounphrase-IBE-religion.pkl\"\n"
   ]
  },
  {
   "cell_type": "markdown",
   "metadata": {},
   "source": [
    "Here is a sample of how the data looks"
   ]
  },
  {
   "cell_type": "code",
   "execution_count": 7,
   "metadata": {},
   "outputs": [
    {
     "data": {
      "text/plain": [
       "{'explicitGender': {'type': 'literal',\n",
       "  'value': 'female',\n",
       "  'lang': 'en',\n",
       "  'datatype': 'string'},\n",
       " 'explicitReligion': {'type': 'bnode', 'value': None},\n",
       " 'explicitNationality': {'type': 'bnode', 'value': None},\n",
       " 'implicitGender': {'type': 'bnode', 'value': None},\n",
       " 'implicitReligion': {'type': 'bnode', 'value': None},\n",
       " 'implicitNationality': {'type': 'bnode', 'value': None},\n",
       " 'pairResource': {'type': 'uri',\n",
       "  'value': 'ফোনকল শেষ করে অ্যাম্ৰার দিকে ফিরলো। কাছেই দাঁড়িয়ে আছে পুরুষ।',\n",
       "  'lang': 'bn',\n",
       "  'datatype': 'string'},\n",
       " 'translation': {'type': 'literal',\n",
       "  'value': 'Fonseca ended the call and turned his attention to Ambra, who stood nearby, looking dazed.',\n",
       "  'lang': 'en',\n",
       "  'datatype': 'string'}}"
      ]
     },
     "execution_count": 7,
     "metadata": {},
     "output_type": "execute_result"
    }
   ],
   "source": [
    "ebe_gender_data = return_pkl_dict(os.path.join(base_path, ebe_gender_filename))\n",
    "ebe_gender_data[\"ফোনকল শেষ করে অ্যাম্ৰার দিকে ফিরলো। কাছেই দাঁড়িয়ে আছে মহিলা।\"]"
   ]
  },
  {
   "cell_type": "markdown",
   "metadata": {},
   "source": [
    "The following code converts the data into a list with the relevant fields for our work"
   ]
  },
  {
   "cell_type": "code",
   "execution_count": 27,
   "metadata": {},
   "outputs": [],
   "source": [
    "from normalizer import normalize\n",
    "\n",
    "def convert_to_list(data):\n",
    "    assert(type(data) == dict)\n",
    "    data_list = []\n",
    "    for key, info in data.items():\n",
    "        sample_dict = {}\n",
    "        sample_dict[\"text\"] = normalize(key)\n",
    "        for k, v in info.items():\n",
    "            if v[\"type\"] == \"bnode\" or k == \"translation\":\n",
    "                continue\n",
    "            if v[\"type\"] == \"uri\":\n",
    "                sample_dict[\"pair\"] = normalize(v[\"value\"])\n",
    "                continue\n",
    "            sample_dict[normalize(k)] = normalize(v[\"value\"])\n",
    "        data_list.append(sample_dict)\n",
    "\n",
    "    return data_list\n"
   ]
  },
  {
   "cell_type": "markdown",
   "metadata": {},
   "source": [
    "Code for saving the data list into a csv file after converting it into a data frame"
   ]
  },
  {
   "cell_type": "code",
   "execution_count": 28,
   "metadata": {},
   "outputs": [],
   "source": [
    "import pandas as pd\n",
    "\n",
    "def save_list_as_csv(data_list, filename):\n",
    "    df = pd.DataFrame(data_list)\n",
    "    df.to_csv(filename, index=False, encoding=\"utf-8\")"
   ]
  },
  {
   "cell_type": "markdown",
   "metadata": {},
   "source": [
    "The code below brings all the functions together to convert the pickle file to csv "
   ]
  },
  {
   "cell_type": "code",
   "execution_count": 29,
   "metadata": {},
   "outputs": [],
   "source": [
    "import os\n",
    "destination_folder = \"../Data/BIBED_Processed\"\n",
    "\n",
    "def convert_pkl_to_csv(pkl_filename, csv_filename):\n",
    "    data = return_pkl_dict(os.path.join(base_path, pkl_filename))\n",
    "    data_list = convert_to_list(data)\n",
    "    if not os.path.exists(destination_folder):\n",
    "        os.makedirs(destination_folder)\n",
    "    save_list_as_csv(data_list, os.path.join(destination_folder, csv_filename))"
   ]
  },
  {
   "cell_type": "code",
   "execution_count": 30,
   "metadata": {},
   "outputs": [],
   "source": [
    "convert_pkl_to_csv(ebe_gender_filename, \"ebe_gender_data.csv\")\n",
    "convert_pkl_to_csv(ebe_religion_filename, \"ebe_religion_data.csv\")\n",
    "convert_pkl_to_csv(np_ibe_gender_filename, \"np_ibe_gender_data.csv\")\n",
    "convert_pkl_to_csv(np_ibe_religion_filename, \"np_ibe_religion_data.csv\")"
   ]
  },
  {
   "cell_type": "markdown",
   "metadata": {},
   "source": [
    "# Dataset Analytics and EDA\n",
    "In this sectrion we perfrom some analytics on the dataset that we attained"
   ]
  },
  {
   "cell_type": "code",
   "execution_count": null,
   "metadata": {},
   "outputs": [],
   "source": []
  }
 ],
 "metadata": {
  "kernelspec": {
   "display_name": "Python 3",
   "language": "python",
   "name": "python3"
  },
  "language_info": {
   "codemirror_mode": {
    "name": "ipython",
    "version": 3
   },
   "file_extension": ".py",
   "mimetype": "text/x-python",
   "name": "python",
   "nbconvert_exporter": "python",
   "pygments_lexer": "ipython3",
   "version": "3.10.12"
  }
 },
 "nbformat": 4,
 "nbformat_minor": 2
}
